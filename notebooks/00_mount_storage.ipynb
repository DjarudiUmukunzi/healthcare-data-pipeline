{
 "cells": [
  {
   "cell_type": "code",
   "execution_count": null,
   "id": "864cfc0b",
   "metadata": {},
   "outputs": [],
   "source": [
    "\n",
    "STORAGE_ACCOUNT_NAME = \"stclinicaldata\"\n",
    "STORAGE_KEY = \"<your_storage_account_key_here>\"\n",
    "\n",
    "containers_to_mount = [\"bronze\", \"silver\", \"gold\"]\n",
    "\n",
    "def mount_container(container_name):\n",
    "  \"\"\"\n",
    "  Mounts a single ADLS container to a DBFS mount point if it doesn't already exist.\n",
    "  \"\"\"\n",
    "  mount_point = f\"/mnt/{container_name}\"\n",
    "  \n",
    "  # Check if already mounted to avoid errors\n",
    "  if any(mount.mountPoint == mount_point for mount in dbutils.fs.mounts()):\n",
    "    print(f\"Mount point {mount_point} already exists. Skipping.\")\n",
    "    return\n",
    "  \n",
    "  # Mount the container\n",
    "  try:\n",
    "    dbutils.fs.mount(\n",
    "      source = f\"wasbs://{container_name}@{STORAGE_ACCOUNT_NAME}.blob.core.windows.net/\",\n",
    "      mount_point = mount_point,\n",
    "      extra_configs = {f\"fs.azure.account.key.{STORAGE_ACCOUNT_NAME}.blob.core.windows.net\": STORAGE_KEY}\n",
    "    )\n",
    "    print(f\"Successfully mounted {mount_point}\")\n",
    "  except Exception as e:\n",
    "    print(f\"Error mounting {mount_point}: {e}\")\n",
    "\n",
    "# --- Execute Mounts ---\n",
    "print(\"Starting storage mount process...\")\n",
    "for container in containers_to_mount:\n",
    "  mount_container(container)\n",
    "print(\"Mount process complete.\")\n"
   ]
  }
 ],
 "metadata": {
  "language_info": {
   "name": "python"
  }
 },
 "nbformat": 4,
 "nbformat_minor": 5
}
